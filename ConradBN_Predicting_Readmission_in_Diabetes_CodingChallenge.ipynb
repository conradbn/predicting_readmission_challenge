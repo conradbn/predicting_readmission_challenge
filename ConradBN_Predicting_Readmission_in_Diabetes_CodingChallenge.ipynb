{
 "cells": [
  {
   "cell_type": "markdown",
   "metadata": {},
   "source": [
    "## HCA Data Science I - Coding Challenge\n",
    "### Benjamin N. Conrad, 7/20/2021\n"
   ]
  },
  {
   "cell_type": "markdown",
   "metadata": {},
   "source": [
    "----\n",
    "## Scenario\n",
    "A colleague has connected with our team because they want to apply data science to their work on ensuring excellent care for diabetes patients. You have been asked to do initial exploratory data analysis and modeling to test the feasibility of proceeding with this initiative."
   ]
  },
  {
   "cell_type": "markdown",
   "metadata": {},
   "source": [
    "---\n",
    "## Part 1 – Explore the problem\n",
    "1. How many rows and columns are in the data set?\n",
    "2. How many men are represented in the data versus women?\n",
    "3. What percentage of the patients are African American?\n",
    "4. What is the approximate average age of female and male patients in the data set?\n",
    "5. Which features have more than 50% missing data?\n",
    "6. Write a function to remove features from the data set that have a high proportion of missing values.\n",
    "7. The business owner you are collaborating with is concerned about patients who are readmitted within 30 days. She wants to know which medical specialty has the biggest problem with these readmissions. What do you tell her?\n",
    "\n",
    "## Part 2 – Build a model\n",
    "1. Build a predictive model to identify patients at risk of readmitting within 30 days.\n",
    "2. Evaluate your model.\n",
    "\n",
    "## Part 3 – Communicate findings\n",
    "The business owner sends you an email asking for an update on the project. What is your response?\n",
    "\n",
    "---"
   ]
  },
  {
   "cell_type": "markdown",
   "metadata": {},
   "source": [
    "### 0.1 Set up environment and load data"
   ]
  },
  {
   "cell_type": "code",
   "execution_count": 1,
   "metadata": {},
   "outputs": [],
   "source": [
    "# Import packages and functions\n",
    "import pandas as pd\n",
    "import numpy as np\n",
    "import seaborn as sns\n",
    "import matplotlib.pyplot as plt\n",
    "from sklearn.model_selection import train_test_split\n",
    "from sklearn.linear_model import LogisticRegression\n",
    "from sklearn.ensemble import RandomForestClassifier\n",
    "from sklearn.ensemble import GradientBoostingClassifier\n",
    "from sklearn.decomposition import PCA\n",
    "from sklearn.preprocessing import StandardScaler\n",
    "from sklearn.metrics import classification_report\n",
    "from sklearn.metrics import plot_confusion_matrix\n",
    "from sklearn.metrics import plot_roc_curve\n",
    "from sklearn.metrics import auc\n",
    "import warnings\n",
    "warnings.filterwarnings('ignore')\n",
    "%matplotlib inline"
   ]
  },
  {
   "cell_type": "markdown",
   "metadata": {},
   "source": [
    "### 1.1 How many rows and columns are in the data set?"
   ]
  },
  {
   "cell_type": "code",
   "execution_count": 2,
   "metadata": {
    "scrolled": true
   },
   "outputs": [
    {
     "name": "stdout",
     "output_type": "stream",
     "text": [
      "The dataset has 101766 rows.\n",
      "The dataset has 50 columns.\n"
     ]
    }
   ],
   "source": [
    "# Load data\n",
    "# Specify \"?\" as a null value)\n",
    "df = pd.read_csv('data/diabetes_data.csv',na_values=['?'],low_memory=False)\n",
    "\n",
    "# Report number of rows and columns\n",
    "print(f'The dataset has {df.shape[0]} rows.')\n",
    "print(f'The dataset has {df.shape[1]} columns.')"
   ]
  },
  {
   "cell_type": "code",
   "execution_count": 3,
   "metadata": {},
   "outputs": [
    {
     "data": {
      "text/html": [
       "<div>\n",
       "<style scoped>\n",
       "    .dataframe tbody tr th:only-of-type {\n",
       "        vertical-align: middle;\n",
       "    }\n",
       "\n",
       "    .dataframe tbody tr th {\n",
       "        vertical-align: top;\n",
       "    }\n",
       "\n",
       "    .dataframe thead th {\n",
       "        text-align: right;\n",
       "    }\n",
       "</style>\n",
       "<table border=\"1\" class=\"dataframe\">\n",
       "  <thead>\n",
       "    <tr style=\"text-align: right;\">\n",
       "      <th></th>\n",
       "      <th>encounter_id</th>\n",
       "      <th>patient_nbr</th>\n",
       "      <th>race</th>\n",
       "      <th>gender</th>\n",
       "      <th>weight</th>\n",
       "      <th>admission_type_id</th>\n",
       "      <th>discharge_disposition_id</th>\n",
       "      <th>admission_source_id</th>\n",
       "      <th>time_in_hospital</th>\n",
       "      <th>payer_code</th>\n",
       "      <th>...</th>\n",
       "      <th>glyburide-metformin</th>\n",
       "      <th>glipizide-metformin</th>\n",
       "      <th>glimepiride-pioglitazone</th>\n",
       "      <th>metformin-rosiglitazone</th>\n",
       "      <th>metformin-pioglitazone</th>\n",
       "      <th>change</th>\n",
       "      <th>diabetesMed</th>\n",
       "      <th>readmitted</th>\n",
       "      <th>admit_date</th>\n",
       "      <th>birth_date</th>\n",
       "    </tr>\n",
       "  </thead>\n",
       "  <tbody>\n",
       "    <tr>\n",
       "      <th>0</th>\n",
       "      <td>2278392</td>\n",
       "      <td>8222157</td>\n",
       "      <td>Caucasian</td>\n",
       "      <td>Female</td>\n",
       "      <td>NaN</td>\n",
       "      <td>6</td>\n",
       "      <td>25</td>\n",
       "      <td>1</td>\n",
       "      <td>1</td>\n",
       "      <td>NaN</td>\n",
       "      <td>...</td>\n",
       "      <td>No</td>\n",
       "      <td>No</td>\n",
       "      <td>No</td>\n",
       "      <td>No</td>\n",
       "      <td>No</td>\n",
       "      <td>No</td>\n",
       "      <td>No</td>\n",
       "      <td>NO</td>\n",
       "      <td>2002-10-22 06:30:00</td>\n",
       "      <td>1996-07-29 14:28:00</td>\n",
       "    </tr>\n",
       "    <tr>\n",
       "      <th>1</th>\n",
       "      <td>149190</td>\n",
       "      <td>55629189</td>\n",
       "      <td>Caucasian</td>\n",
       "      <td>Female</td>\n",
       "      <td>NaN</td>\n",
       "      <td>1</td>\n",
       "      <td>1</td>\n",
       "      <td>7</td>\n",
       "      <td>3</td>\n",
       "      <td>NaN</td>\n",
       "      <td>...</td>\n",
       "      <td>No</td>\n",
       "      <td>No</td>\n",
       "      <td>No</td>\n",
       "      <td>No</td>\n",
       "      <td>No</td>\n",
       "      <td>Ch</td>\n",
       "      <td>Yes</td>\n",
       "      <td>&gt;30</td>\n",
       "      <td>2004-07-24 08:35:00</td>\n",
       "      <td>1985-09-19 11:19:00</td>\n",
       "    </tr>\n",
       "    <tr>\n",
       "      <th>2</th>\n",
       "      <td>64410</td>\n",
       "      <td>86047875</td>\n",
       "      <td>AfricanAmerican</td>\n",
       "      <td>Female</td>\n",
       "      <td>NaN</td>\n",
       "      <td>1</td>\n",
       "      <td>1</td>\n",
       "      <td>7</td>\n",
       "      <td>2</td>\n",
       "      <td>NaN</td>\n",
       "      <td>...</td>\n",
       "      <td>No</td>\n",
       "      <td>No</td>\n",
       "      <td>No</td>\n",
       "      <td>No</td>\n",
       "      <td>No</td>\n",
       "      <td>No</td>\n",
       "      <td>Yes</td>\n",
       "      <td>NO</td>\n",
       "      <td>2005-11-30 06:35:00</td>\n",
       "      <td>1983-07-14 07:22:00</td>\n",
       "    </tr>\n",
       "    <tr>\n",
       "      <th>3</th>\n",
       "      <td>500364</td>\n",
       "      <td>82442376</td>\n",
       "      <td>Caucasian</td>\n",
       "      <td>Male</td>\n",
       "      <td>NaN</td>\n",
       "      <td>1</td>\n",
       "      <td>1</td>\n",
       "      <td>7</td>\n",
       "      <td>2</td>\n",
       "      <td>NaN</td>\n",
       "      <td>...</td>\n",
       "      <td>No</td>\n",
       "      <td>No</td>\n",
       "      <td>No</td>\n",
       "      <td>No</td>\n",
       "      <td>No</td>\n",
       "      <td>Ch</td>\n",
       "      <td>Yes</td>\n",
       "      <td>NO</td>\n",
       "      <td>2003-05-26 00:32:00</td>\n",
       "      <td>1968-04-05 23:51:00</td>\n",
       "    </tr>\n",
       "    <tr>\n",
       "      <th>4</th>\n",
       "      <td>16680</td>\n",
       "      <td>42519267</td>\n",
       "      <td>Caucasian</td>\n",
       "      <td>Male</td>\n",
       "      <td>NaN</td>\n",
       "      <td>1</td>\n",
       "      <td>1</td>\n",
       "      <td>7</td>\n",
       "      <td>1</td>\n",
       "      <td>NaN</td>\n",
       "      <td>...</td>\n",
       "      <td>No</td>\n",
       "      <td>No</td>\n",
       "      <td>No</td>\n",
       "      <td>No</td>\n",
       "      <td>No</td>\n",
       "      <td>Ch</td>\n",
       "      <td>Yes</td>\n",
       "      <td>NO</td>\n",
       "      <td>2004-04-25 04:04:00</td>\n",
       "      <td>1957-11-18 20:30:00</td>\n",
       "    </tr>\n",
       "  </tbody>\n",
       "</table>\n",
       "<p>5 rows × 50 columns</p>\n",
       "</div>"
      ],
      "text/plain": [
       "   encounter_id  patient_nbr             race  gender weight  \\\n",
       "0       2278392      8222157        Caucasian  Female    NaN   \n",
       "1        149190     55629189        Caucasian  Female    NaN   \n",
       "2         64410     86047875  AfricanAmerican  Female    NaN   \n",
       "3        500364     82442376        Caucasian    Male    NaN   \n",
       "4         16680     42519267        Caucasian    Male    NaN   \n",
       "\n",
       "   admission_type_id  discharge_disposition_id  admission_source_id  \\\n",
       "0                  6                        25                    1   \n",
       "1                  1                         1                    7   \n",
       "2                  1                         1                    7   \n",
       "3                  1                         1                    7   \n",
       "4                  1                         1                    7   \n",
       "\n",
       "   time_in_hospital payer_code  ... glyburide-metformin  glipizide-metformin  \\\n",
       "0                 1        NaN  ...                  No                   No   \n",
       "1                 3        NaN  ...                  No                   No   \n",
       "2                 2        NaN  ...                  No                   No   \n",
       "3                 2        NaN  ...                  No                   No   \n",
       "4                 1        NaN  ...                  No                   No   \n",
       "\n",
       "   glimepiride-pioglitazone  metformin-rosiglitazone  metformin-pioglitazone  \\\n",
       "0                        No                       No                      No   \n",
       "1                        No                       No                      No   \n",
       "2                        No                       No                      No   \n",
       "3                        No                       No                      No   \n",
       "4                        No                       No                      No   \n",
       "\n",
       "   change diabetesMed readmitted           admit_date           birth_date  \n",
       "0      No          No         NO  2002-10-22 06:30:00  1996-07-29 14:28:00  \n",
       "1      Ch         Yes        >30  2004-07-24 08:35:00  1985-09-19 11:19:00  \n",
       "2      No         Yes         NO  2005-11-30 06:35:00  1983-07-14 07:22:00  \n",
       "3      Ch         Yes         NO  2003-05-26 00:32:00  1968-04-05 23:51:00  \n",
       "4      Ch         Yes         NO  2004-04-25 04:04:00  1957-11-18 20:30:00  \n",
       "\n",
       "[5 rows x 50 columns]"
      ]
     },
     "execution_count": 3,
     "metadata": {},
     "output_type": "execute_result"
    }
   ],
   "source": [
    "# Check dataset structure\n",
    "df.head()"
   ]
  },
  {
   "cell_type": "markdown",
   "metadata": {},
   "source": [
    "### I noticed that there are some patients with multiple entries. Let's remove those to prevent a bias towards their particular medical profiles. This will also allow us to be more specific about predicting the readmission risk of a *new* patient. "
   ]
  },
  {
   "cell_type": "code",
   "execution_count": 4,
   "metadata": {},
   "outputs": [
    {
     "name": "stdout",
     "output_type": "stream",
     "text": [
      "54745 patients with 1 entry\n",
      "20868 patients with 2 entries\n",
      "24296 patients with 3-10 entries\n",
      "1857 patients with 10 or more entries\n"
     ]
    }
   ],
   "source": [
    "# Check for unique patients\n",
    "vc = df['patient_nbr'].value_counts()\n",
    "print(f'{vc[vc == 1].sum()} patients with 1 entry')\n",
    "print(f'{vc[(vc > 1) & (vc < 3)].sum()} patients with 2 entries')\n",
    "print(f'{vc[(vc > 2) & (vc < 10)].sum()} patients with 3-10 entries')\n",
    "print(f'{vc[(vc >= 10)].sum()} patients with 10 or more entries')"
   ]
  },
  {
   "cell_type": "code",
   "execution_count": 5,
   "metadata": {},
   "outputs": [],
   "source": [
    "# Drop additional instances of patients\n",
    "# Sort by patient number\n",
    "df.sort_values('patient_nbr', inplace = True)\n",
    " \n",
    "# Drop rows if duplicate values\n",
    "df.drop_duplicates(subset =\"patient_nbr\",\n",
    "                     keep = 'first', inplace = True)"
   ]
  },
  {
   "cell_type": "markdown",
   "metadata": {},
   "source": [
    "### 1.2 How many men are represented in the data versus women?"
   ]
  },
  {
   "cell_type": "code",
   "execution_count": 6,
   "metadata": {},
   "outputs": [
    {
     "name": "stdout",
     "output_type": "stream",
     "text": [
      "The dataset has 33490 males\n",
      "The dataset has 38025 females\n"
     ]
    },
    {
     "data": {
      "image/png": "[encoded data removed]",
      "text/plain": [
       "<Figure size 432x288 with 1 Axes>"
      ]
     },
     "metadata": {},
     "output_type": "display_data"
    }
   ],
   "source": [
    "# Print the total number of each gender\n",
    "print(f'The dataset has {len(df[df.gender == \"Male\"])} males')\n",
    "print(f'The dataset has {len(df[df.gender == \"Female\"])} females')\n",
    "\n",
    "# Use value_counts and pie chart to show the representation of each value of \"gender\"\n",
    "plot = df['gender'].value_counts(dropna=False).plot(kind='pie', autopct='%1.3f%%', fontsize=12,\n",
    "                                        title='Gender representation in dataset',\n",
    "                                        ylabel='Gender')"
   ]
  },
  {
   "cell_type": "markdown",
   "metadata": {},
   "source": [
    "### 1.3 What percentage of the patients are African American?"
   ]
  },
  {
   "cell_type": "code",
   "execution_count": 7,
   "metadata": {
    "scrolled": true
   },
   "outputs": [
    {
     "name": "stdout",
     "output_type": "stream",
     "text": [
      "The dataset is 18.04% African American (including null entries).\n"
     ]
    },
    {
     "data": {
      "image/png": "[encoded data removed]",
      "text/plain": [
       "<Figure size 432x288 with 1 Axes>"
      ]
     },
     "metadata": {},
     "output_type": "display_data"
    }
   ],
   "source": [
    "# Print the percentage of African Americans in the dataset\n",
    "# Use value_counts and \"normalize\" to indicate the proportion of unique values in \"race\" column\n",
    "race = df['race'].value_counts(normalize=True,dropna=False)\n",
    "print(f'The dataset is {np.round(100 * race.at[\"AfricanAmerican\"],decimals=3)}% African American (including null entries).')\n",
    "\n",
    "# Plot pie chart of race representation\n",
    "race = df['race'].value_counts(normalize=True,dropna=False)\n",
    "plot = race.plot(kind='pie',autopct='%1.1f%%', fontsize=12,\n",
    "                 title='Race representation in dataset',\n",
    "                 ylabel='Race',explode=([0.1] * len(race)),\n",
    "                 pctdistance=0.8)"
   ]
  },
  {
   "cell_type": "markdown",
   "metadata": {},
   "source": [
    "### 1.4 What is the approximate average age of female and male patients in the data set?"
   ]
  },
  {
   "cell_type": "code",
   "execution_count": 8,
   "metadata": {
    "scrolled": true
   },
   "outputs": [
    {
     "name": "stdout",
     "output_type": "stream",
     "text": [
      "On average, females are 66.79 years old.\n",
      "On average, males are 65.1 years old.\n"
     ]
    },
    {
     "data": {
      "image/png": "[encoded data removed]",
      "text/plain": [
       "<Figure size 432x288 with 1 Axes>"
      ]
     },
     "metadata": {
      "needs_background": "light"
     },
     "output_type": "display_data"
    }
   ],
   "source": [
    "# Don't have age value, so need to calculate it based on [admission data - birth date]\n",
    "# First convert dates to datetime format\n",
    "df['admit_date'] = pd.to_datetime(df['admit_date'])\n",
    "df['birth_date'] = pd.to_datetime(df['birth_date'])\n",
    "\n",
    "# Compute difference in years\n",
    "df['Age'] = (df.admit_date - df.birth_date).dt.days / 365.25\n",
    "\n",
    "# Calculate average age of females and males\n",
    "gender_age = df.groupby('gender')['Age'].mean()\n",
    "\n",
    "# Print approximate averages\n",
    "print(f'On average, females are {np.round(gender_age.at[\"Female\"],decimals=2)} years old.')\n",
    "print(f'On average, males are {np.round(gender_age.at[\"Male\"],decimals=2)} years old.')\n",
    "\n",
    "# Plot histogram of ages using seaborn\n",
    "plot = sns.histplot(data=df,x='Age',hue='gender')"
   ]
  },
  {
   "cell_type": "markdown",
   "metadata": {},
   "source": [
    "### 1.5 Which features have more than 50% missing data?"
   ]
  },
  {
   "cell_type": "code",
   "execution_count": 9,
   "metadata": {
    "scrolled": true
   },
   "outputs": [
    {
     "name": "stdout",
     "output_type": "stream",
     "text": [
      "The following features have more than 50.0% missing data: ['weight']\n"
     ]
    }
   ],
   "source": [
    "# Report columns (i.e., features) where the missing proportion is greater than 0.50\n",
    "thresh = 0.50;\n",
    "missing = df.columns[df.isnull().mean() > thresh]\n",
    "print(f'The following features have more than {100*thresh}% missing data: {list(missing)}')"
   ]
  },
  {
   "cell_type": "markdown",
   "metadata": {},
   "source": [
    "### 1.6 Write a function to remove features from the data set that have a high proportion of missing values."
   ]
  },
  {
   "cell_type": "code",
   "execution_count": 10,
   "metadata": {
    "scrolled": true
   },
   "outputs": [
    {
     "data": {
      "text/html": [
       "<div>\n",
       "<style scoped>\n",
       "    .dataframe tbody tr th:only-of-type {\n",
       "        vertical-align: middle;\n",
       "    }\n",
       "\n",
       "    .dataframe tbody tr th {\n",
       "        vertical-align: top;\n",
       "    }\n",
       "\n",
       "    .dataframe thead th {\n",
       "        text-align: right;\n",
       "    }\n",
       "</style>\n",
       "<table border=\"1\" class=\"dataframe\">\n",
       "  <thead>\n",
       "    <tr style=\"text-align: right;\">\n",
       "      <th></th>\n",
       "      <th>encounter_id</th>\n",
       "      <th>patient_nbr</th>\n",
       "      <th>race</th>\n",
       "      <th>gender</th>\n",
       "      <th>admission_type_id</th>\n",
       "      <th>discharge_disposition_id</th>\n",
       "      <th>admission_source_id</th>\n",
       "      <th>time_in_hospital</th>\n",
       "      <th>num_lab_procedures</th>\n",
       "      <th>num_procedures</th>\n",
       "      <th>...</th>\n",
       "      <th>glipizide-metformin</th>\n",
       "      <th>glimepiride-pioglitazone</th>\n",
       "      <th>metformin-rosiglitazone</th>\n",
       "      <th>metformin-pioglitazone</th>\n",
       "      <th>change</th>\n",
       "      <th>diabetesMed</th>\n",
       "      <th>readmitted</th>\n",
       "      <th>admit_date</th>\n",
       "      <th>birth_date</th>\n",
       "      <th>Age</th>\n",
       "    </tr>\n",
       "  </thead>\n",
       "  <tbody>\n",
       "    <tr>\n",
       "      <th>4267</th>\n",
       "      <td>24437208</td>\n",
       "      <td>135</td>\n",
       "      <td>Caucasian</td>\n",
       "      <td>Female</td>\n",
       "      <td>2</td>\n",
       "      <td>1</td>\n",
       "      <td>1</td>\n",
       "      <td>8</td>\n",
       "      <td>77</td>\n",
       "      <td>6</td>\n",
       "      <td>...</td>\n",
       "      <td>No</td>\n",
       "      <td>No</td>\n",
       "      <td>No</td>\n",
       "      <td>No</td>\n",
       "      <td>Ch</td>\n",
       "      <td>Yes</td>\n",
       "      <td>&lt;30</td>\n",
       "      <td>2006-03-29 15:44:00</td>\n",
       "      <td>1952-09-25 22:21:00</td>\n",
       "      <td>53.503080</td>\n",
       "    </tr>\n",
       "    <tr>\n",
       "      <th>5827</th>\n",
       "      <td>29758806</td>\n",
       "      <td>378</td>\n",
       "      <td>Caucasian</td>\n",
       "      <td>Female</td>\n",
       "      <td>3</td>\n",
       "      <td>1</td>\n",
       "      <td>1</td>\n",
       "      <td>2</td>\n",
       "      <td>49</td>\n",
       "      <td>1</td>\n",
       "      <td>...</td>\n",
       "      <td>No</td>\n",
       "      <td>No</td>\n",
       "      <td>No</td>\n",
       "      <td>No</td>\n",
       "      <td>No</td>\n",
       "      <td>No</td>\n",
       "      <td>NO</td>\n",
       "      <td>2000-06-27 03:13:00</td>\n",
       "      <td>1947-01-22 16:37:00</td>\n",
       "      <td>53.426420</td>\n",
       "    </tr>\n",
       "    <tr>\n",
       "      <th>67608</th>\n",
       "      <td>189899286</td>\n",
       "      <td>729</td>\n",
       "      <td>Caucasian</td>\n",
       "      <td>Female</td>\n",
       "      <td>1</td>\n",
       "      <td>3</td>\n",
       "      <td>7</td>\n",
       "      <td>4</td>\n",
       "      <td>68</td>\n",
       "      <td>2</td>\n",
       "      <td>...</td>\n",
       "      <td>No</td>\n",
       "      <td>No</td>\n",
       "      <td>No</td>\n",
       "      <td>No</td>\n",
       "      <td>No</td>\n",
       "      <td>Yes</td>\n",
       "      <td>NO</td>\n",
       "      <td>2003-02-17 04:58:00</td>\n",
       "      <td>1914-06-24 03:48:00</td>\n",
       "      <td>88.651608</td>\n",
       "    </tr>\n",
       "    <tr>\n",
       "      <th>17494</th>\n",
       "      <td>64331490</td>\n",
       "      <td>774</td>\n",
       "      <td>Caucasian</td>\n",
       "      <td>Female</td>\n",
       "      <td>1</td>\n",
       "      <td>1</td>\n",
       "      <td>7</td>\n",
       "      <td>3</td>\n",
       "      <td>46</td>\n",
       "      <td>0</td>\n",
       "      <td>...</td>\n",
       "      <td>No</td>\n",
       "      <td>No</td>\n",
       "      <td>No</td>\n",
       "      <td>No</td>\n",
       "      <td>Ch</td>\n",
       "      <td>Yes</td>\n",
       "      <td>NO</td>\n",
       "      <td>2006-05-30 11:21:00</td>\n",
       "      <td>1924-06-21 08:06:00</td>\n",
       "      <td>81.938398</td>\n",
       "    </tr>\n",
       "    <tr>\n",
       "      <th>2270</th>\n",
       "      <td>14824206</td>\n",
       "      <td>927</td>\n",
       "      <td>AfricanAmerican</td>\n",
       "      <td>Female</td>\n",
       "      <td>1</td>\n",
       "      <td>1</td>\n",
       "      <td>7</td>\n",
       "      <td>5</td>\n",
       "      <td>49</td>\n",
       "      <td>0</td>\n",
       "      <td>...</td>\n",
       "      <td>No</td>\n",
       "      <td>No</td>\n",
       "      <td>No</td>\n",
       "      <td>No</td>\n",
       "      <td>No</td>\n",
       "      <td>Yes</td>\n",
       "      <td>NO</td>\n",
       "      <td>2002-04-27 05:51:00</td>\n",
       "      <td>1965-11-14 13:17:00</td>\n",
       "      <td>36.446270</td>\n",
       "    </tr>\n",
       "    <tr>\n",
       "      <th>...</th>\n",
       "      <td>...</td>\n",
       "      <td>...</td>\n",
       "      <td>...</td>\n",
       "      <td>...</td>\n",
       "      <td>...</td>\n",
       "      <td>...</td>\n",
       "      <td>...</td>\n",
       "      <td>...</td>\n",
       "      <td>...</td>\n",
       "      <td>...</td>\n",
       "      <td>...</td>\n",
       "      <td>...</td>\n",
       "      <td>...</td>\n",
       "      <td>...</td>\n",
       "      <td>...</td>\n",
       "      <td>...</td>\n",
       "      <td>...</td>\n",
       "      <td>...</td>\n",
       "      <td>...</td>\n",
       "      <td>...</td>\n",
       "      <td>...</td>\n",
       "    </tr>\n",
       "    <tr>\n",
       "      <th>95283</th>\n",
       "      <td>359725880</td>\n",
       "      <td>189349430</td>\n",
       "      <td>Asian</td>\n",
       "      <td>Female</td>\n",
       "      <td>1</td>\n",
       "      <td>1</td>\n",
       "      <td>7</td>\n",
       "      <td>1</td>\n",
       "      <td>31</td>\n",
       "      <td>0</td>\n",
       "      <td>...</td>\n",
       "      <td>No</td>\n",
       "      <td>No</td>\n",
       "      <td>No</td>\n",
       "      <td>No</td>\n",
       "      <td>No</td>\n",
       "      <td>Yes</td>\n",
       "      <td>NO</td>\n",
       "      <td>2002-01-18 06:49:00</td>\n",
       "      <td>1931-10-31 18:15:00</td>\n",
       "      <td>70.214921</td>\n",
       "    </tr>\n",
       "    <tr>\n",
       "      <th>99863</th>\n",
       "      <td>418513058</td>\n",
       "      <td>189351095</td>\n",
       "      <td>Caucasian</td>\n",
       "      <td>Female</td>\n",
       "      <td>1</td>\n",
       "      <td>1</td>\n",
       "      <td>7</td>\n",
       "      <td>1</td>\n",
       "      <td>73</td>\n",
       "      <td>1</td>\n",
       "      <td>...</td>\n",
       "      <td>No</td>\n",
       "      <td>No</td>\n",
       "      <td>No</td>\n",
       "      <td>No</td>\n",
       "      <td>No</td>\n",
       "      <td>No</td>\n",
       "      <td>NO</td>\n",
       "      <td>1999-12-07 03:27:00</td>\n",
       "      <td>1914-05-10 08:33:00</td>\n",
       "      <td>85.574264</td>\n",
       "    </tr>\n",
       "    <tr>\n",
       "      <th>95282</th>\n",
       "      <td>359719064</td>\n",
       "      <td>189365864</td>\n",
       "      <td>Other</td>\n",
       "      <td>Male</td>\n",
       "      <td>1</td>\n",
       "      <td>1</td>\n",
       "      <td>7</td>\n",
       "      <td>3</td>\n",
       "      <td>56</td>\n",
       "      <td>1</td>\n",
       "      <td>...</td>\n",
       "      <td>No</td>\n",
       "      <td>No</td>\n",
       "      <td>No</td>\n",
       "      <td>No</td>\n",
       "      <td>No</td>\n",
       "      <td>Yes</td>\n",
       "      <td>NO</td>\n",
       "      <td>2004-04-29 22:15:00</td>\n",
       "      <td>1942-07-13 10:01:00</td>\n",
       "      <td>61.796030</td>\n",
       "    </tr>\n",
       "    <tr>\n",
       "      <th>93651</th>\n",
       "      <td>338462954</td>\n",
       "      <td>189445127</td>\n",
       "      <td>Caucasian</td>\n",
       "      <td>Female</td>\n",
       "      <td>1</td>\n",
       "      <td>1</td>\n",
       "      <td>7</td>\n",
       "      <td>3</td>\n",
       "      <td>39</td>\n",
       "      <td>0</td>\n",
       "      <td>...</td>\n",
       "      <td>No</td>\n",
       "      <td>No</td>\n",
       "      <td>No</td>\n",
       "      <td>No</td>\n",
       "      <td>Ch</td>\n",
       "      <td>Yes</td>\n",
       "      <td>NO</td>\n",
       "      <td>2008-12-12 17:48:00</td>\n",
       "      <td>1922-03-05 05:48:00</td>\n",
       "      <td>86.773443</td>\n",
       "    </tr>\n",
       "    <tr>\n",
       "      <th>101748</th>\n",
       "      <td>443811536</td>\n",
       "      <td>189481478</td>\n",
       "      <td>Caucasian</td>\n",
       "      <td>Female</td>\n",
       "      <td>1</td>\n",
       "      <td>4</td>\n",
       "      <td>7</td>\n",
       "      <td>14</td>\n",
       "      <td>69</td>\n",
       "      <td>0</td>\n",
       "      <td>...</td>\n",
       "      <td>No</td>\n",
       "      <td>No</td>\n",
       "      <td>No</td>\n",
       "      <td>No</td>\n",
       "      <td>Ch</td>\n",
       "      <td>Yes</td>\n",
       "      <td>&gt;30</td>\n",
       "      <td>2007-08-11 22:03:00</td>\n",
       "      <td>1963-10-08 15:25:00</td>\n",
       "      <td>43.841205</td>\n",
       "    </tr>\n",
       "  </tbody>\n",
       "</table>\n",
       "<p>71517 rows × 48 columns</p>\n",
       "</div>"
      ],
      "text/plain": [
       "        encounter_id  patient_nbr             race  gender  admission_type_id  \\\n",
       "4267        24437208          135        Caucasian  Female                  2   \n",
       "5827        29758806          378        Caucasian  Female                  3   \n",
       "67608      189899286          729        Caucasian  Female                  1   \n",
       "17494       64331490          774        Caucasian  Female                  1   \n",
       "2270        14824206          927  AfricanAmerican  Female                  1   \n",
       "...              ...          ...              ...     ...                ...   \n",
       "95283      359725880    189349430            Asian  Female                  1   \n",
       "99863      418513058    189351095        Caucasian  Female                  1   \n",
       "95282      359719064    189365864            Other    Male                  1   \n",
       "93651      338462954    189445127        Caucasian  Female                  1   \n",
       "101748     443811536    189481478        Caucasian  Female                  1   \n",
       "\n",
       "        discharge_disposition_id  admission_source_id  time_in_hospital  \\\n",
       "4267                           1                    1                 8   \n",
       "5827                           1                    1                 2   \n",
       "67608                          3                    7                 4   \n",
       "17494                          1                    7                 3   \n",
       "2270                           1                    7                 5   \n",
       "...                          ...                  ...               ...   \n",
       "95283                          1                    7                 1   \n",
       "99863                          1                    7                 1   \n",
       "95282                          1                    7                 3   \n",
       "93651                          1                    7                 3   \n",
       "101748                         4                    7                14   \n",
       "\n",
       "        num_lab_procedures  num_procedures  ...  glipizide-metformin  \\\n",
       "4267                    77               6  ...                   No   \n",
       "5827                    49               1  ...                   No   \n",
       "67608                   68               2  ...                   No   \n",
       "17494                   46               0  ...                   No   \n",
       "2270                    49               0  ...                   No   \n",
       "...                    ...             ...  ...                  ...   \n",
       "95283                   31               0  ...                   No   \n",
       "99863                   73               1  ...                   No   \n",
       "95282                   56               1  ...                   No   \n",
       "93651                   39               0  ...                   No   \n",
       "101748                  69               0  ...                   No   \n",
       "\n",
       "        glimepiride-pioglitazone  metformin-rosiglitazone  \\\n",
       "4267                          No                       No   \n",
       "5827                          No                       No   \n",
       "67608                         No                       No   \n",
       "17494                         No                       No   \n",
       "2270                          No                       No   \n",
       "...                          ...                      ...   \n",
       "95283                         No                       No   \n",
       "99863                         No                       No   \n",
       "95282                         No                       No   \n",
       "93651                         No                       No   \n",
       "101748                        No                       No   \n",
       "\n",
       "       metformin-pioglitazone change diabetesMed  readmitted  \\\n",
       "4267                       No     Ch         Yes         <30   \n",
       "5827                       No     No          No          NO   \n",
       "67608                      No     No         Yes          NO   \n",
       "17494                      No     Ch         Yes          NO   \n",
       "2270                       No     No         Yes          NO   \n",
       "...                       ...    ...         ...         ...   \n",
       "95283                      No     No         Yes          NO   \n",
       "99863                      No     No          No          NO   \n",
       "95282                      No     No         Yes          NO   \n",
       "93651                      No     Ch         Yes          NO   \n",
       "101748                     No     Ch         Yes         >30   \n",
       "\n",
       "                admit_date          birth_date        Age  \n",
       "4267   2006-03-29 15:44:00 1952-09-25 22:21:00  53.503080  \n",
       "5827   2000-06-27 03:13:00 1947-01-22 16:37:00  53.426420  \n",
       "67608  2003-02-17 04:58:00 1914-06-24 03:48:00  88.651608  \n",
       "17494  2006-05-30 11:21:00 1924-06-21 08:06:00  81.938398  \n",
       "2270   2002-04-27 05:51:00 1965-11-14 13:17:00  36.446270  \n",
       "...                    ...                 ...        ...  \n",
       "95283  2002-01-18 06:49:00 1931-10-31 18:15:00  70.214921  \n",
       "99863  1999-12-07 03:27:00 1914-05-10 08:33:00  85.574264  \n",
       "95282  2004-04-29 22:15:00 1942-07-13 10:01:00  61.796030  \n",
       "93651  2008-12-12 17:48:00 1922-03-05 05:48:00  86.773443  \n",
       "101748 2007-08-11 22:03:00 1963-10-08 15:25:00  43.841205  \n",
       "\n",
       "[71517 rows x 48 columns]"
      ]
     },
     "execution_count": 10,
     "metadata": {},
     "output_type": "execute_result"
    }
   ],
   "source": [
    "# Function that returns new dataframe, including only columns with less than thresh missing values\n",
    "def rm_missing(df,thresh):\n",
    "    df_out = df[df.columns[df.isnull().mean() < thresh]]\n",
    "    return df_out\n",
    "\n",
    "# Run function, removing columns with >= 20% missing values \n",
    "df_reduced = rm_missing(df,0.20)\n",
    "df_reduced.head(-1)"
   ]
  },
  {
   "cell_type": "markdown",
   "metadata": {},
   "source": [
    "### 1.7 The business owner you are collaborating with is concerned about patients who are readmitted within 30 days. She wants to know which medical specialty has the biggest problem with these readmissions. What do you tell her?"
   ]
  },
  {
   "cell_type": "code",
   "execution_count": 11,
   "metadata": {
    "scrolled": true
   },
   "outputs": [
    {
     "name": "stdout",
     "output_type": "stream",
     "text": [
      "The medical specialty is missing for approximately 48.2% of all patient entries.\n",
      "And of those readmitted, 50.1% do not have a medical speciality listed.\n"
     ]
    }
   ],
   "source": [
    "# Get total proportion of unique values of \"medical_specialty\", including NaN entries\n",
    "med_specs = df.medical_specialty.value_counts(normalize=True,dropna=False)\n",
    "perc_nan = np.round(med_specs.at[float(\"NaN\")] * 100,decimals=1)\n",
    "\n",
    "# Report the percentage that are NaN\n",
    "print(f'The medical specialty is missing for approximately {perc_nan}% of all patient entries.')\n",
    "\n",
    "# Now calculate the number of readmitted patients, and the percentage of those that are missing\n",
    "readmit = df[df['readmitted'] == '<30']\n",
    "readmit_nan = readmit['medical_specialty'].isnull().sum()\n",
    "print(f'And of those readmitted, {np.round(100 * readmit_nan/len(readmit),decimals=1)}% do not have a medical speciality listed.')"
   ]
  },
  {
   "cell_type": "markdown",
   "metadata": {},
   "source": [
    "### Answer:\n",
    "### *Unfortunately, the \"medical specialty\" is missing in over 48% of the dataset. And further, of those patients readmitted within 30 days, more than half do not have a speciality listed. Thus, unless we can confirm the speciality entries are truly \"missing at random,\" we cannot make a valid comparison across specialities. For instance, if the reporting of specialty is related to the speciality itself, it could bias our conclusions.*\n",
    "---"
   ]
  },
  {
   "cell_type": "markdown",
   "metadata": {},
   "source": [
    "## Modeling readmission risk"
   ]
  },
  {
   "cell_type": "markdown",
   "metadata": {},
   "source": [
    "### 2.1 Build a predictive model to identify patients at risk of readmitting within 30 days."
   ]
  },
  {
   "cell_type": "markdown",
   "metadata": {},
   "source": [
    "### Feature engineering\n",
    "1. Remove some subject-specific identifier variables. Also fill some missing entries so they can contribute to the model.\n",
    "2. Run PCA on the diagnostic codes to reduce dimensionality of features. This is intended as a demonstration of this method and should make model training more efficient. However, it will be make interpretability of the particular diagnostic code features much more difficult. Also note, to improve generalizability, it is preferable to do PCA on ONLY the training set, and then apply to the test set. \n",
    "3. One-hot encoding of categorical variables and standardization (to aid in feature importance interpretability)\n",
    "4. Make predicted variable binary (readmit <30 days or not)"
   ]
  },
  {
   "cell_type": "code",
   "execution_count": 12,
   "metadata": {
    "scrolled": true
   },
   "outputs": [],
   "source": [
    "# Set the predictor data (X)\n",
    "X = df_reduced.copy()\n",
    "\n",
    "# Drop the outcome variable, and unique identifier fields\n",
    "X = X.drop(['readmitted','encounter_id','patient_nbr','admit_date','birth_date'],axis=1)\n",
    "\n",
    "# Set missing values to specifically missing\n",
    "vars_fill = ['race', 'diag_1','diag_2','diag_3']\n",
    "X[vars_fill] = X[vars_fill].fillna(value='Unknown')\n",
    "\n",
    "# Convert the id code variables to object format (because these are categorical codes, rather than numeric)\n",
    "cols_to_obj = ['admission_type_id','admission_source_id','discharge_disposition_id']\n",
    "X[cols_to_obj] = X[cols_to_obj].astype(object)"
   ]
  },
  {
   "cell_type": "code",
   "execution_count": 13,
   "metadata": {
    "scrolled": true
   },
   "outputs": [
    {
     "name": "stdout",
     "output_type": "stream",
     "text": [
      "The PCA of the diagnostic codes explained 78.0% of the variance\n",
      "The number of features associated with diagnostic codes went from 2173 to 200\n"
     ]
    }
   ],
   "source": [
    "# PCA of diagnostic codes\n",
    "# Remove diagnostic codes from dataframe\n",
    "diag_list = ['diag_1','diag_2','diag_3']\n",
    "X_diag = X[diag_list]\n",
    "X = X.drop(diag_list,axis=1)\n",
    "\n",
    "# Create one-hot encoded diagnostic codes for PCA\n",
    "X_diag = pd.get_dummies(X_diag)\n",
    "n_orig = X_diag.shape[1]\n",
    "n_comp = 200\n",
    "\n",
    "# Run PCA and report the explained variance\n",
    "pca = PCA(n_components=n_comp)\n",
    "pca.fit(X_diag)\n",
    "comp_check = pca.explained_variance_ratio_\n",
    "print(f'The PCA of the diagnostic codes explained {100 * np.round(comp_check.sum(),decimals=2)}% of the variance')\n",
    "print(f'The number of features associated with diagnostic codes went from {n_orig} to {n_comp}')\n",
    "\n",
    "# Add PCA results back to dataframe\n",
    "X_diag = pca.transform(X_diag)\n",
    "columns = ['pca_diag_comp_%i' % i for i in range(n_comp)]\n",
    "X_diag = pd.DataFrame(X_diag, columns=columns, index=X.index)\n",
    "X = pd.concat([X,X_diag],axis=1)"
   ]
  },
  {
   "cell_type": "code",
   "execution_count": 14,
   "metadata": {},
   "outputs": [
    {
     "name": "stdout",
     "output_type": "stream",
     "text": [
      "<class 'pandas.core.frame.DataFrame'>\n",
      "Int64Index: 71518 entries, 4267 to 96147\n",
      "Data columns (total 316 columns):\n",
      " #   Column                          Dtype  \n",
      "---  ------                          -----  \n",
      " 0   time_in_hospital                int64  \n",
      " 1   num_lab_procedures              int64  \n",
      " 2   num_procedures                  int64  \n",
      " 3   num_medications                 int64  \n",
      " 4   number_outpatient               int64  \n",
      " 5   number_emergency                int64  \n",
      " 6   number_diagnoses                int64  \n",
      " 7   Age                             float64\n",
      " 8   pca_diag_comp_0                 float64\n",
      " 9   pca_diag_comp_1                 float64\n",
      " 10  pca_diag_comp_2                 float64\n",
      " 11  pca_diag_comp_3                 float64\n",
      " 12  pca_diag_comp_4                 float64\n",
      " 13  pca_diag_comp_5                 float64\n",
      " 14  pca_diag_comp_6                 float64\n",
      " 15  pca_diag_comp_7                 float64\n",
      " 16  pca_diag_comp_8                 float64\n",
      " 17  pca_diag_comp_9                 float64\n",
      " 18  pca_diag_comp_10                float64\n",
      " 19  pca_diag_comp_11                float64\n",
      " 20  pca_diag_comp_12                float64\n",
      " 21  pca_diag_comp_13                float64\n",
      " 22  pca_diag_comp_14                float64\n",
      " 23  pca_diag_comp_15                float64\n",
      " 24  pca_diag_comp_16                float64\n",
      " 25  pca_diag_comp_17                float64\n",
      " 26  pca_diag_comp_18                float64\n",
      " 27  pca_diag_comp_19                float64\n",
      " 28  pca_diag_comp_20                float64\n",
      " 29  pca_diag_comp_21                float64\n",
      " 30  pca_diag_comp_22                float64\n",
      " 31  pca_diag_comp_23                float64\n",
      " 32  pca_diag_comp_24                float64\n",
      " 33  pca_diag_comp_25                float64\n",
      " 34  pca_diag_comp_26                float64\n",
      " 35  pca_diag_comp_27                float64\n",
      " 36  pca_diag_comp_28                float64\n",
      " 37  pca_diag_comp_29                float64\n",
      " 38  pca_diag_comp_30                float64\n",
      " 39  pca_diag_comp_31                float64\n",
      " 40  pca_diag_comp_32                float64\n",
      " 41  pca_diag_comp_33                float64\n",
      " 42  pca_diag_comp_34                float64\n",
      " 43  pca_diag_comp_35                float64\n",
      " 44  pca_diag_comp_36                float64\n",
      " 45  pca_diag_comp_37                float64\n",
      " 46  pca_diag_comp_38                float64\n",
      " 47  pca_diag_comp_39                float64\n",
      " 48  pca_diag_comp_40                float64\n",
      " 49  pca_diag_comp_41                float64\n",
      " 50  pca_diag_comp_42                float64\n",
      " 51  pca_diag_comp_43                float64\n",
      " 52  pca_diag_comp_44                float64\n",
      " 53  pca_diag_comp_45                float64\n",
      " 54  pca_diag_comp_46                float64\n",
      " 55  pca_diag_comp_47                float64\n",
      " 56  pca_diag_comp_48                float64\n",
      " 57  pca_diag_comp_49                float64\n",
      " 58  pca_diag_comp_50                float64\n",
      " 59  pca_diag_comp_51                float64\n",
      " 60  pca_diag_comp_52                float64\n",
      " 61  pca_diag_comp_53                float64\n",
      " 62  pca_diag_comp_54                float64\n",
      " 63  pca_diag_comp_55                float64\n",
      " 64  pca_diag_comp_56                float64\n",
      " 65  pca_diag_comp_57                float64\n",
      " 66  pca_diag_comp_58                float64\n",
      " 67  pca_diag_comp_59                float64\n",
      " 68  pca_diag_comp_60                float64\n",
      " 69  pca_diag_comp_61                float64\n",
      " 70  pca_diag_comp_62                float64\n",
      " 71  pca_diag_comp_63                float64\n",
      " 72  pca_diag_comp_64                float64\n",
      " 73  pca_diag_comp_65                float64\n",
      " 74  pca_diag_comp_66                float64\n",
      " 75  pca_diag_comp_67                float64\n",
      " 76  pca_diag_comp_68                float64\n",
      " 77  pca_diag_comp_69                float64\n",
      " 78  pca_diag_comp_70                float64\n",
      " 79  pca_diag_comp_71                float64\n",
      " 80  pca_diag_comp_72                float64\n",
      " 81  pca_diag_comp_73                float64\n",
      " 82  pca_diag_comp_74                float64\n",
      " 83  pca_diag_comp_75                float64\n",
      " 84  pca_diag_comp_76                float64\n",
      " 85  pca_diag_comp_77                float64\n",
      " 86  pca_diag_comp_78                float64\n",
      " 87  pca_diag_comp_79                float64\n",
      " 88  pca_diag_comp_80                float64\n",
      " 89  pca_diag_comp_81                float64\n",
      " 90  pca_diag_comp_82                float64\n",
      " 91  pca_diag_comp_83                float64\n",
      " 92  pca_diag_comp_84                float64\n",
      " 93  pca_diag_comp_85                float64\n",
      " 94  pca_diag_comp_86                float64\n",
      " 95  pca_diag_comp_87                float64\n",
      " 96  pca_diag_comp_88                float64\n",
      " 97  pca_diag_comp_89                float64\n",
      " 98  pca_diag_comp_90                float64\n",
      " 99  pca_diag_comp_91                float64\n",
      " 100 pca_diag_comp_92                float64\n",
      " 101 pca_diag_comp_93                float64\n",
      " 102 pca_diag_comp_94                float64\n",
      " 103 pca_diag_comp_95                float64\n",
      " 104 pca_diag_comp_96                float64\n",
      " 105 pca_diag_comp_97                float64\n",
      " 106 pca_diag_comp_98                float64\n",
      " 107 pca_diag_comp_99                float64\n",
      " 108 pca_diag_comp_100               float64\n",
      " 109 pca_diag_comp_101               float64\n",
      " 110 pca_diag_comp_102               float64\n",
      " 111 pca_diag_comp_103               float64\n",
      " 112 pca_diag_comp_104               float64\n",
      " 113 pca_diag_comp_105               float64\n",
      " 114 pca_diag_comp_106               float64\n",
      " 115 pca_diag_comp_107               float64\n",
      " 116 pca_diag_comp_108               float64\n",
      " 117 pca_diag_comp_109               float64\n",
      " 118 pca_diag_comp_110               float64\n",
      " 119 pca_diag_comp_111               float64\n",
      " 120 pca_diag_comp_112               float64\n",
      " 121 pca_diag_comp_113               float64\n",
      " 122 pca_diag_comp_114               float64\n",
      " 123 pca_diag_comp_115               float64\n",
      " 124 pca_diag_comp_116               float64\n",
      " 125 pca_diag_comp_117               float64\n",
      " 126 pca_diag_comp_118               float64\n",
      " 127 pca_diag_comp_119               float64\n",
      " 128 pca_diag_comp_120               float64\n",
      " 129 pca_diag_comp_121               float64\n",
      " 130 pca_diag_comp_122               float64\n",
      " 131 pca_diag_comp_123               float64\n",
      " 132 pca_diag_comp_124               float64\n",
      " 133 pca_diag_comp_125               float64\n",
      " 134 pca_diag_comp_126               float64\n",
      " 135 pca_diag_comp_127               float64\n",
      " 136 pca_diag_comp_128               float64\n",
      " 137 pca_diag_comp_129               float64\n",
      " 138 pca_diag_comp_130               float64\n",
      " 139 pca_diag_comp_131               float64\n",
      " 140 pca_diag_comp_132               float64\n",
      " 141 pca_diag_comp_133               float64\n",
      " 142 pca_diag_comp_134               float64\n",
      " 143 pca_diag_comp_135               float64\n",
      " 144 pca_diag_comp_136               float64\n",
      " 145 pca_diag_comp_137               float64\n",
      " 146 pca_diag_comp_138               float64\n",
      " 147 pca_diag_comp_139               float64\n",
      " 148 pca_diag_comp_140               float64\n",
      " 149 pca_diag_comp_141               float64\n",
      " 150 pca_diag_comp_142               float64\n",
      " 151 pca_diag_comp_143               float64\n",
      " 152 pca_diag_comp_144               float64\n",
      " 153 pca_diag_comp_145               float64\n",
      " 154 pca_diag_comp_146               float64\n",
      " 155 pca_diag_comp_147               float64\n",
      " 156 pca_diag_comp_148               float64\n",
      " 157 pca_diag_comp_149               float64\n",
      " 158 pca_diag_comp_150               float64\n",
      " 159 pca_diag_comp_151               float64\n",
      " 160 pca_diag_comp_152               float64\n",
      " 161 pca_diag_comp_153               float64\n",
      " 162 pca_diag_comp_154               float64\n",
      " 163 pca_diag_comp_155               float64\n",
      " 164 pca_diag_comp_156               float64\n",
      " 165 pca_diag_comp_157               float64\n",
      " 166 pca_diag_comp_158               float64\n",
      " 167 pca_diag_comp_159               float64\n",
      " 168 pca_diag_comp_160               float64\n",
      " 169 pca_diag_comp_161               float64\n",
      " 170 pca_diag_comp_162               float64\n",
      " 171 pca_diag_comp_163               float64\n",
      " 172 pca_diag_comp_164               float64\n",
      " 173 pca_diag_comp_165               float64\n",
      " 174 pca_diag_comp_166               float64\n",
      " 175 pca_diag_comp_167               float64\n",
      " 176 pca_diag_comp_168               float64\n",
      " 177 pca_diag_comp_169               float64\n",
      " 178 pca_diag_comp_170               float64\n",
      " 179 pca_diag_comp_171               float64\n",
      " 180 pca_diag_comp_172               float64\n",
      " 181 pca_diag_comp_173               float64\n",
      " 182 pca_diag_comp_174               float64\n",
      " 183 pca_diag_comp_175               float64\n",
      " 184 pca_diag_comp_176               float64\n",
      " 185 pca_diag_comp_177               float64\n",
      " 186 pca_diag_comp_178               float64\n",
      " 187 pca_diag_comp_179               float64\n",
      " 188 pca_diag_comp_180               float64\n",
      " 189 pca_diag_comp_181               float64\n",
      " 190 pca_diag_comp_182               float64\n",
      " 191 pca_diag_comp_183               float64\n",
      " 192 pca_diag_comp_184               float64\n",
      " 193 pca_diag_comp_185               float64\n",
      " 194 pca_diag_comp_186               float64\n",
      " 195 pca_diag_comp_187               float64\n",
      " 196 pca_diag_comp_188               float64\n",
      " 197 pca_diag_comp_189               float64\n",
      " 198 pca_diag_comp_190               float64\n",
      " 199 pca_diag_comp_191               float64\n",
      " 200 pca_diag_comp_192               float64\n",
      " 201 pca_diag_comp_193               float64\n",
      " 202 pca_diag_comp_194               float64\n",
      " 203 pca_diag_comp_195               float64\n",
      " 204 pca_diag_comp_196               float64\n",
      " 205 pca_diag_comp_197               float64\n",
      " 206 pca_diag_comp_198               float64\n",
      " 207 pca_diag_comp_199               float64\n",
      " 208 race_Asian                      uint8  \n",
      " 209 race_Caucasian                  uint8  \n",
      " 210 race_Hispanic                   uint8  \n",
      " 211 race_Other                      uint8  \n",
      " 212 race_Unknown                    uint8  \n",
      " 213 gender_Male                     uint8  \n",
      " 214 gender_Unknown/Invalid          uint8  \n",
      " 215 admission_type_id_2             uint8  \n",
      " 216 admission_type_id_3             uint8  \n",
      " 217 admission_type_id_4             uint8  \n",
      " 218 admission_type_id_5             uint8  \n",
      " 219 admission_type_id_6             uint8  \n",
      " 220 admission_type_id_7             uint8  \n",
      " 221 admission_type_id_8             uint8  \n",
      " 222 discharge_disposition_id_2      uint8  \n",
      " 223 discharge_disposition_id_3      uint8  \n",
      " 224 discharge_disposition_id_4      uint8  \n",
      " 225 discharge_disposition_id_5      uint8  \n",
      " 226 discharge_disposition_id_6      uint8  \n",
      " 227 discharge_disposition_id_7      uint8  \n",
      " 228 discharge_disposition_id_8      uint8  \n",
      " 229 discharge_disposition_id_9      uint8  \n",
      " 230 discharge_disposition_id_10     uint8  \n",
      " 231 discharge_disposition_id_11     uint8  \n",
      " 232 discharge_disposition_id_12     uint8  \n",
      " 233 discharge_disposition_id_13     uint8  \n",
      " 234 discharge_disposition_id_14     uint8  \n",
      " 235 discharge_disposition_id_15     uint8  \n",
      " 236 discharge_disposition_id_16     uint8  \n",
      " 237 discharge_disposition_id_17     uint8  \n",
      " 238 discharge_disposition_id_18     uint8  \n",
      " 239 discharge_disposition_id_19     uint8  \n",
      " 240 discharge_disposition_id_20     uint8  \n",
      " 241 discharge_disposition_id_22     uint8  \n",
      " 242 discharge_disposition_id_23     uint8  \n",
      " 243 discharge_disposition_id_24     uint8  \n",
      " 244 discharge_disposition_id_25     uint8  \n",
      " 245 discharge_disposition_id_27     uint8  \n",
      " 246 discharge_disposition_id_28     uint8  \n",
      " 247 admission_source_id_2           uint8  \n",
      " 248 admission_source_id_3           uint8  \n",
      " 249 admission_source_id_4           uint8  \n",
      " 250 admission_source_id_5           uint8  \n",
      " 251 admission_source_id_6           uint8  \n",
      " 252 admission_source_id_7           uint8  \n",
      " 253 admission_source_id_8           uint8  \n",
      " 254 admission_source_id_9           uint8  \n",
      " 255 admission_source_id_10          uint8  \n",
      " 256 admission_source_id_11          uint8  \n",
      " 257 admission_source_id_13          uint8  \n",
      " 258 admission_source_id_14          uint8  \n",
      " 259 admission_source_id_17          uint8  \n",
      " 260 admission_source_id_20          uint8  \n",
      " 261 admission_source_id_22          uint8  \n",
      " 262 admission_source_id_25          uint8  \n",
      " 263 max_glu_serum_>300              uint8  \n",
      " 264 max_glu_serum_None              uint8  \n",
      " 265 max_glu_serum_Norm              uint8  \n",
      " 266 A1Cresult_>8                    uint8  \n",
      " 267 A1Cresult_None                  uint8  \n",
      " 268 A1Cresult_Norm                  uint8  \n",
      " 269 metformin_No                    uint8  \n",
      " 270 metformin_Steady                uint8  \n",
      " 271 metformin_Up                    uint8  \n",
      " 272 repaglinide_No                  uint8  \n",
      " 273 repaglinide_Steady              uint8  \n",
      " 274 repaglinide_Up                  uint8  \n",
      " 275 nateglinide_No                  uint8  \n",
      " 276 nateglinide_Steady              uint8  \n",
      " 277 nateglinide_Up                  uint8  \n",
      " 278 chlorpropamide_No               uint8  \n",
      " 279 chlorpropamide_Steady           uint8  \n",
      " 280 chlorpropamide_Up               uint8  \n",
      " 281 glimepiride_No                  uint8  \n",
      " 282 glimepiride_Steady              uint8  \n",
      " 283 glimepiride_Up                  uint8  \n",
      " 284 acetohexamide_Steady            uint8  \n",
      " 285 glipizide_No                    uint8  \n",
      " 286 glipizide_Steady                uint8  \n",
      " 287 glipizide_Up                    uint8  \n",
      " 288 glyburide_No                    uint8  \n",
      " 289 glyburide_Steady                uint8  \n",
      " 290 glyburide_Up                    uint8  \n",
      " 291 tolbutamide_Steady              uint8  \n",
      " 292 pioglitazone_No                 uint8  \n",
      " 293 pioglitazone_Steady             uint8  \n",
      " 294 pioglitazone_Up                 uint8  \n",
      " 295 rosiglitazone_No                uint8  \n",
      " 296 rosiglitazone_Steady            uint8  \n",
      " 297 rosiglitazone_Up                uint8  \n",
      " 298 acarbose_Steady                 uint8  \n",
      " 299 acarbose_Up                     uint8  \n",
      " 300 miglitol_Steady                 uint8  \n",
      " 301 miglitol_Up                     uint8  \n",
      " 302 troglitazone_Steady             uint8  \n",
      " 303 tolazamide_Steady               uint8  \n",
      " 304 tolazamide_Up                   uint8  \n",
      " 305 insulin_No                      uint8  \n",
      " 306 insulin_Steady                  uint8  \n",
      " 307 insulin_Up                      uint8  \n",
      " 308 glyburide-metformin_No          uint8  \n",
      " 309 glyburide-metformin_Steady      uint8  \n",
      " 310 glyburide-metformin_Up          uint8  \n",
      " 311 glipizide-metformin_Steady      uint8  \n",
      " 312 metformin-rosiglitazone_Steady  uint8  \n",
      " 313 metformin-pioglitazone_Steady   uint8  \n",
      " 314 change_No                       uint8  \n",
      " 315 diabetesMed_Yes                 uint8  \n",
      "dtypes: float64(201), int64(7), uint8(108)\n",
      "memory usage: 121.4 MB\n"
     ]
    }
   ],
   "source": [
    "# Convert remaining object (i.e., categorical) variables to one-hot vectors\n",
    "X = pd.get_dummies(X, drop_first = True)\n",
    "X.info(-1)\n",
    "\n",
    "# Standardize X variables using the scaler model\n",
    "scaler = StandardScaler()\n",
    "# Fit and transform the data, put back into dataframe\n",
    "X_scl = scaler.fit_transform(X) \n",
    "X.iloc[:,:] = X_scl"
   ]
  },
  {
   "cell_type": "code",
   "execution_count": 15,
   "metadata": {},
   "outputs": [
    {
     "data": {
      "text/plain": [
       "False    66441\n",
       "True      5077\n",
       "Name: readmitted, dtype: int64"
      ]
     },
     "execution_count": 15,
     "metadata": {},
     "output_type": "execute_result"
    }
   ],
   "source": [
    "# Set the outcome data (y)\n",
    "y = df_reduced['readmitted'].copy()\n",
    "# Convert to binary classification, i.e., either readmitted <30 or not\n",
    "y = y == '<30'\n",
    "y.value_counts()"
   ]
  },
  {
   "cell_type": "markdown",
   "metadata": {},
   "source": [
    "### Train a weighted logistic regression model (use weights to account for class imbalance)"
   ]
  },
  {
   "cell_type": "code",
   "execution_count": 16,
   "metadata": {},
   "outputs": [],
   "source": [
    "# Split data into test and train sets\n",
    "X_train, X_test, y_train, y_test = train_test_split(X, y, random_state = 3, test_size = 0.1)"
   ]
  },
  {
   "cell_type": "code",
   "execution_count": 17,
   "metadata": {
    "scrolled": true
   },
   "outputs": [
    {
     "data": {
      "text/plain": [
       "LogisticRegression(class_weight={0: 1.0764136602399121, 1: 14.086665353555247},\n",
       "                   max_iter=200)"
      ]
     },
     "execution_count": 17,
     "metadata": {},
     "output_type": "execute_result"
    }
   ],
   "source": [
    "# Define and train model\n",
    "# Specify weights for logistic regression, to account for imbalanced datasets\n",
    "# Use the inverse of the prevalence of each class (LogisticRegression can do this internally, but being explicit here)\n",
    "w1 = 1/(len(y[y==1])/len(y)) \n",
    "w0 = 1/(len(y[y==0])/len(y))\n",
    "weights = {1:w1, 0:w0}\n",
    "\n",
    "# Train model\n",
    "mdl = LogisticRegression(max_iter=200,class_weight=weights)\n",
    "mdl.fit(X_train, y_train)"
   ]
  },
  {
   "cell_type": "markdown",
   "metadata": {},
   "source": [
    "### Plot feature importances"
   ]
  },
  {
   "cell_type": "code",
   "execution_count": 18,
   "metadata": {
    "scrolled": true
   },
   "outputs": [
    {
     "data": {
      "image/png": "[encoded data removed]",
      "text/plain": [
       "<Figure size 432x288 with 1 Axes>"
      ]
     },
     "metadata": {
      "needs_background": "light"
     },
     "output_type": "display_data"
    }
   ],
   "source": [
    "# Plot the feature importances from the logistic regression model\n",
    "# Extract importances from the fitted model\n",
    "ft_imprtnc = pd.DataFrame(mdl.coef_[0], index = X.columns, columns=['importance'])\n",
    "ft_imprtnc = ft_imprtnc.sort_values('importance',ascending=False)\n",
    "\n",
    "# Set number of top features to consider\n",
    "num = 20\n",
    "ylocs = np.arange(num)\n",
    "\n",
    "# Get the top positive feature importances and sort in reverse order\n",
    "vals = ft_imprtnc.iloc[:num].values.ravel()[::-1]\n",
    "ft_lbls = list(ft_imprtnc.iloc[:num].index)[::-1]\n",
    "\n",
    "# Plot\n",
    "plt.figure();\n",
    "plt.barh(ylocs, vals, align = 'center')\n",
    "plt.ylabel('Features')\n",
    "plt.xlabel('Importance Score')\n",
    "plt.title('Positive Feature Importance Score - Logistic Regression (original)')\n",
    "plt.yticks(ylocs, ft_lbls)\n",
    "plt.show()"
   ]
  },
  {
   "cell_type": "code",
   "execution_count": 19,
   "metadata": {},
   "outputs": [
    {
     "data": {
      "image/png": "[encoded data removed]",
      "text/plain": [
       "<Figure size 432x288 with 1 Axes>"
      ]
     },
     "metadata": {
      "needs_background": "light"
     },
     "output_type": "display_data"
    }
   ],
   "source": [
    "# Plot the negative importances\n",
    "vals = ft_imprtnc.iloc[-num:].values.ravel()\n",
    "ft_lbls = list(ft_imprtnc.iloc[-num:].index)\n",
    "\n",
    "# Plot\n",
    "plt.figure();\n",
    "plt.barh(ylocs, vals, align = 'center')\n",
    "plt.ylabel('Features')\n",
    "plt.xlabel('Importance Score')\n",
    "plt.title('Negative Feature Importance Score - Logistic Regression (original)')\n",
    "plt.yticks(ylocs, ft_lbls)\n",
    "plt.show()"
   ]
  },
  {
   "cell_type": "markdown",
   "metadata": {},
   "source": [
    "### Uh oh! Looking back at the IDs_mapping document, I found that \"Discharge disposition id 11\" codes for \"Expired\"... Of course, you can't be readmitted if you *die* at the hospital (explaining the extreme importance score), so best to remove that (and several other related ids) from the model. "
   ]
  },
  {
   "cell_type": "markdown",
   "metadata": {},
   "source": [
    "### Let's remove those now and then train a new model"
   ]
  },
  {
   "cell_type": "code",
   "execution_count": 20,
   "metadata": {},
   "outputs": [
    {
     "data": {
      "text/plain": [
       "LogisticRegression(class_weight={0: 1.0764136602399121, 1: 14.086665353555247},\n",
       "                   max_iter=200)"
      ]
     },
     "execution_count": 20,
     "metadata": {},
     "output_type": "execute_result"
    }
   ],
   "source": [
    "# Train new model\n",
    "# First, drop death-related id codes\n",
    "X2 = X.copy()\n",
    "X2 = X2.drop(['discharge_disposition_id_11','discharge_disposition_id_19','discharge_disposition_id_20'],axis=1)\n",
    "\n",
    "# Split data into test and train sets\n",
    "X_train, X_test, y_train, y_test = train_test_split(X2, y, random_state = 3, test_size = 0.1)\n",
    "\n",
    "# Train model\n",
    "mdl = LogisticRegression(max_iter=200,class_weight=weights)\n",
    "mdl.fit(X_train, y_train)"
   ]
  },
  {
   "cell_type": "markdown",
   "metadata": {},
   "source": [
    "### Plot feature importances"
   ]
  },
  {
   "cell_type": "code",
   "execution_count": 21,
   "metadata": {
    "scrolled": true
   },
   "outputs": [
    {
     "data": {
      "image/png": "[encoded data removed]",
      "text/plain": [
       "<Figure size 432x288 with 1 Axes>"
      ]
     },
     "metadata": {
      "needs_background": "light"
     },
     "output_type": "display_data"
    }
   ],
   "source": [
    "# Plot thefeature importances from the logistic regression model\n",
    "# Extract importances from the fitted model\n",
    "ft_imprtnc = pd.DataFrame(mdl.coef_[0], index = X2.columns, columns=['importance'])\n",
    "ft_imprtnc = ft_imprtnc.sort_values('importance',ascending=False)\n",
    "\n",
    "# Set number of top features to consider\n",
    "num = 20\n",
    "ylocs = np.arange(num)\n",
    "\n",
    "# Get the top positive feature importances and sort in reverse order\n",
    "vals = ft_imprtnc.iloc[:num].values.ravel()[::-1]\n",
    "ft_lbls = list(ft_imprtnc.iloc[:num].index)[::-1]\n",
    "\n",
    "# Plot\n",
    "plt.figure();\n",
    "plt.barh(ylocs, vals)\n",
    "plt.ylabel('Features')\n",
    "plt.xlabel('Importance Score')\n",
    "plt.title('Positive Feature Importance Score - Logistic Regression')\n",
    "plt.yticks(ylocs, ft_lbls)\n",
    "plt.show()"
   ]
  },
  {
   "cell_type": "code",
   "execution_count": 22,
   "metadata": {
    "scrolled": false
   },
   "outputs": [
    {
     "data": {
      "image/png": "[encoded data removed]",
      "text/plain": [
       "<Figure size 432x288 with 1 Axes>"
      ]
     },
     "metadata": {
      "needs_background": "light"
     },
     "output_type": "display_data"
    }
   ],
   "source": [
    "# Plot the negative importances\n",
    "vals = ft_imprtnc.iloc[-num:].values.ravel()\n",
    "ft_lbls = list(ft_imprtnc.iloc[-num:].index)\n",
    "\n",
    "# Plot\n",
    "plt.figure();\n",
    "plt.barh(ylocs, vals)\n",
    "plt.ylabel('Features')\n",
    "plt.xlabel('Importance Score')\n",
    "plt.title('Negative Feature Importance Score - Logistic Regression')\n",
    "plt.yticks(ylocs, ft_lbls)\n",
    "plt.show()"
   ]
  },
  {
   "cell_type": "markdown",
   "metadata": {},
   "source": [
    "### That looks better! The important features seem to make sense, e.g., patients with more emergency room visits have a higher readmission risk and patients on metformin-based drugs (usually for mild to moderate cases) are at lower readmission risk. Interestingly, nateglinide appears on both lists, such that increasing delivery of that drug may help reduce readmission risk. These features, however, will be best interpreted by domain experts. \n",
    "\n",
    "### Now, we will evaluate the model's performance."
   ]
  },
  {
   "cell_type": "markdown",
   "metadata": {},
   "source": [
    "### 2.2 Evaluate your model."
   ]
  },
  {
   "cell_type": "code",
   "execution_count": 23,
   "metadata": {
    "scrolled": false
   },
   "outputs": [
    {
     "name": "stdout",
     "output_type": "stream",
     "text": [
      "                precision    recall  f1-score   support\n",
      "\n",
      "Not Readmitted       0.95      0.65      0.78      6627\n",
      "    Readmitted       0.12      0.61      0.20       525\n",
      "\n",
      "      accuracy                           0.65      7152\n",
      "     macro avg       0.54      0.63      0.49      7152\n",
      "  weighted avg       0.89      0.65      0.73      7152\n",
      "\n"
     ]
    },
    {
     "data": {
      "image/png": "[encoded data removed]",
      "text/plain": [
       "<Figure size 432x288 with 2 Axes>"
      ]
     },
     "metadata": {
      "needs_background": "light"
     },
     "output_type": "display_data"
    },
    {
     "data": {
      "image/png": "[encoded data removed]",
      "text/plain": [
       "<Figure size 432x288 with 1 Axes>"
      ]
     },
     "metadata": {
      "needs_background": "light"
     },
     "output_type": "display_data"
    }
   ],
   "source": [
    "# Get predictions for test set\n",
    "y_pred = mdl.predict(X_test)\n",
    "\n",
    "# Print important metrics and plot confusion matrix\n",
    "print(classification_report(y_test, y_pred, target_names=[\"Not Readmitted\",\"Readmitted\"]))\n",
    "disp = plot_confusion_matrix(mdl, X_test, y_test)\n",
    "plt.show()\n",
    "\n",
    "# Plot ROC curves for training and testing sets\n",
    "fig, ax = plt.subplots()\n",
    "plot_roc_curve(mdl, X2, y, ax=ax, label='Training set')\n",
    "plot_roc_curve(mdl, X_test, y_test, ax=ax)\n",
    "ax.plot([0, 1], [0, 1], linestyle='--', lw=2, color='r',\n",
    "        label='Chance', alpha=.8)\n",
    "ax.legend()\n",
    "plt.show()\n"
   ]
  },
  {
   "cell_type": "markdown",
   "metadata": {},
   "source": [
    "### The primary results of the classification model are presented above. Importantly, we focus on the precision and recall values, because overall accuracy is not useful in the case of imbalanced datasets. The true/false positive (and negative) rates are depicted in the confusion matrix. We see that for the readmitted patients, we are able to correctly predict ~61% of cases (i.e. true-positives), suggesting that our model provides improved sensitivity over random guessing. However, of those we predicted to readmit, only ~12% actually readmitted, indicating that our model is not very specific. Finally, we see that the ROC curves are nearly identical between training and testing sets, suggesting that we are certainly not overfitting the data, but possibly are underfitting (indicating that increasing model complexity may help). The AUC value is useful for understanding how much better our model is than chance (see letter to owner below).  \n",
    "\n",
    "### Future directions for this dataset could include:\n",
    "1. Additional feature engineering focusing on some important aspects from the current results may improve the model, e.g., gathering more specifics about the type of skilled nursing or rehab facility a patient enters (given discharge ids 3 & 22 relate to higher risk). Also, predicting time-to-readmission as a continuous measure may be more powerful at determining the degree of risk, compared to a simple binary indicator of <30 days or not.  \n",
    "\n",
    "2. More sophisticated classification algorithms (e.g. random forests or gradient boosting) with hyperparameter grid search to determine optimal settings may provide some incremental gains in performance.\n",
    "\n",
    "---"
   ]
  },
  {
   "cell_type": "markdown",
   "metadata": {},
   "source": [
    "## Part 3 – Communicate findings\n",
    "### The business owner sends you an email asking for an update on the project. What is your response?"
   ]
  },
  {
   "cell_type": "markdown",
   "metadata": {},
   "source": [
    "*Dear business owner,*\n",
    "\n",
    "*Thank you for reaching out. I am pleased to inform you that we have built a working model for predicting a new patient's readmission risk. Using this model, our ability to distinguish between a high and low risk patient improved from 50/50 chance to a 66% success rate. This indicates our model will improve your sensitivity in detecting high risk patients. There does, however, remain a fairly high rate of false-positives. I would like to set up a meeting to review these results in more detail, and ensure the outcome will be satisfactory for your operational needs. We would further like discuss the feasibility of adding several more variables to this database, to supplement the most important variables indicated by our modeling.*  \n",
    "\n",
    "*Please let me know your availability, and if you have any questions. I look forward to hearing from you.*\n",
    "\n",
    "\n",
    "*Sincerely,*\n",
    "\n",
    "*Benjamin Conrad, PhD, HCA Healthcare*"
   ]
  },
  {
   "cell_type": "code",
   "execution_count": null,
   "metadata": {},
   "outputs": [],
   "source": []
  }
 ],
 "metadata": {
  "kernelspec": {
   "display_name": "Python 3",
   "language": "python",
   "name": "python3"
  },
  "language_info": {
   "codemirror_mode": {
    "name": "ipython",
    "version": 3
   },
   "file_extension": ".py",
   "mimetype": "text/x-python",
   "name": "python",
   "nbconvert_exporter": "python",
   "pygments_lexer": "ipython3",
   "version": "3.8.5"
  }
 },
 "nbformat": 4,
 "nbformat_minor": 4
}
